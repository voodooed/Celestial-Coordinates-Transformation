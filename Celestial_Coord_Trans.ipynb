{
 "cells": [
  {
   "cell_type": "markdown",
   "metadata": {},
   "source": [
    "### Transformation Amongst Celestial Coordinate System"
   ]
  },
  {
   "cell_type": "code",
   "execution_count": 113,
   "metadata": {},
   "outputs": [],
   "source": [
    "import numpy as np\n",
    "import math\n",
    "from math import sin,cos,tan,asin,acos,atan,floor,radians,degrees\n",
    "import pprint\n",
    "import sympy as sym"
   ]
  },
  {
   "cell_type": "code",
   "execution_count": 114,
   "metadata": {},
   "outputs": [],
   "source": [
    "# Function to Convert Decimal Degrees to Degree Minute Second\n",
    "def dd2dms(decimaldegree, direction='x'):\n",
    "    if type(decimaldegree) != 'float':\n",
    "        try:\n",
    "            decimaldegree = float(decimaldegree)\n",
    "        except:\n",
    "            print ('\\nERROR: Could not convert %s to float.'%(type(decimaldegree)))\n",
    "            return 0\n",
    "    if decimaldegree < 0:\n",
    "        decimaldegree = -decimaldegree\n",
    "        if direction == 'x':\n",
    "            appendix = 'W'\n",
    "        else:\n",
    "            appendix = 'S'\n",
    "    else:\n",
    "        if direction == 'x':\n",
    "            appendix = 'E'\n",
    "        else:\n",
    "            appendix = 'N'\n",
    "    minutes = decimaldegree%1.0*60\n",
    "    seconds = minutes%1.0*60\n",
    "    \n",
    "    return \"{0} Degree {1} Minutes {2:2.3f} Seconds \".format(int(floor(decimaldegree)), int(floor(minutes)), seconds)"
   ]
  },
  {
   "cell_type": "code",
   "execution_count": 115,
   "metadata": {},
   "outputs": [],
   "source": [
    "#Given Quantities\n",
    "\n",
    "h = 210.4875 # Hour Angle in Degree Decimals after converting from Hours,Minutes,Seconds\n",
    "d = 64.81333 # Declination in Degree Decimals after converting from Degree,Minutes,Seconds\n",
    "phi = 59.94167 # Latitude of the Place in Degree Decimals after converting from Degree,Minutes,Seconds\n",
    "lst = 246.1375 # Local Sidereal Time in Degree Decimals after converting from Hours,Minutes,Seconds\n",
    "ob = 23.5875 # Obliquity of Eciliptic in Degree Decimals after converting from Degree,Minutes,Seconds"
   ]
  },
  {
   "cell_type": "code",
   "execution_count": 116,
   "metadata": {},
   "outputs": [],
   "source": [
    "# Converting all angle in radians\n",
    "\n",
    "h = math.radians(210.4875) # Hour Angle in radians\n",
    "d = math.radians(64.81333) # Declination in radians\n",
    "phi = math.radians(59.94167) # Latitude of the Place in radians\n",
    "lst = math.radians(246.1375) # Local Sidereal Time in radians\n",
    "ob = math.radians(23.5875) # Obliquity of Eciliptic in radians"
   ]
  },
  {
   "cell_type": "code",
   "execution_count": 117,
   "metadata": {},
   "outputs": [
    {
     "name": "stdout",
     "output_type": "stream",
     "text": [
      "The Azimuth of the Star is 15 Degree 39 Minutes 3.013 Seconds \n",
      "The Altitude of the Star is 53 Degree 9 Minutes 46.966 Seconds \n"
     ]
    }
   ],
   "source": [
    "#Transformation from Hour Angle Coordinate System to Horizon Coordinate System\n",
    "# Using Spherical Trigonometric Formula\n",
    "\n",
    "A = math.degrees(atan((sin(h))/((sin(phi)*cos(h))-(tan(d)*cos(phi))))) # Azimuth of the Star\n",
    "z = math.degrees(acos((sin(phi)*sin(d))+(cos(phi)*cos(d)*cos(h)))) # Altitude of the Star\n",
    "print(\"The Azimuth of the Star is {}\".format(dd2dms(A)))\n",
    "print(\"The Altitude of the Star is {}\".format(dd2dms(z)))"
   ]
  },
  {
   "cell_type": "code",
   "execution_count": 130,
   "metadata": {},
   "outputs": [
    {
     "name": "stdout",
     "output_type": "stream",
     "text": [
      "The Transformation from Hour Angle Coordinate System to Horizon Coordinate System Using Method of matrix conversion is\n",
      "\n",
      "In X Direction: 44 Degree 33 Minutes 59.128 Seconds \n",
      "In Y Direction: 12 Degree 22 Minutes 15.145 Seconds \n",
      "In Z Direction: 34 Degree 11 Minutes 2.022 Seconds \n"
     ]
    }
   ],
   "source": [
    "#Transformation from Hour Angle Coordinate System to Horizon Coordinate System\n",
    "# Using Method of matrix conversion\n",
    "\n",
    "# Defining the Rotational Matrix\n",
    "R3 = np.array([\n",
    "    [-1, 0, 0],\n",
    "    [0, -1, 0 ],\n",
    "    [0, 0, 1]\n",
    "])\n",
    "\n",
    "R2 = np.array([\n",
    "    [0.8655, 0, -0.5088],\n",
    "    [0, 1, 0],\n",
    "    [0.5088, 0, 0.8655]\n",
    "])\n",
    "\n",
    "\n",
    "HA = np.array([\n",
    "    [cos(d)*cos(h)],\n",
    "    [cos(d)*sin(h)],\n",
    "    [sin(d)]\n",
    "])\n",
    "\n",
    "#Performing Transformation\n",
    "\n",
    "H = np.dot(R3,np.dot(R2,HA))\n",
    "print(\"The Transformation from Hour Angle Coordinate System to Horizon Coordinate System Using Method of matrix conversion is\\n\")\n",
    "print(\"In X Direction: {}\".format(dd2dms(degrees(H[0]))))\n",
    "print(\"In Y Direction: {}\".format(dd2dms(degrees(H[1]))))\n",
    "print(\"In Z Direction: {}\".format(dd2dms(degrees(H[2]))))"
   ]
  },
  {
   "cell_type": "code",
   "execution_count": 119,
   "metadata": {},
   "outputs": [
    {
     "name": "stdout",
     "output_type": "stream",
     "text": [
      "The Right Ascension of the Star is 35 Degree 38 Minutes 60.000 Seconds \n",
      "The Declination of the Star is 64 Degree 48 Minutes 47.988 Seconds \n"
     ]
    }
   ],
   "source": [
    "#Transformation from Hour Angle Coordinate System to Right Ascension Coordinate System\n",
    "# Using Spherical Trigonometric Formula\n",
    "\n",
    "ra = degrees(lst - h) # Right Ascension of the Star\n",
    "dec = degrees(d) # Declination of the Star\n",
    "\n",
    "print(\"The Right Ascension of the Star is {}\".format(dd2dms(ra)))\n",
    "print(\"The Declination of the Star is {}\".format(dd2dms(dec)))"
   ]
  },
  {
   "cell_type": "code",
   "execution_count": 131,
   "metadata": {},
   "outputs": [
    {
     "name": "stdout",
     "output_type": "stream",
     "text": [
      "The Transformation from Hour Angle Coordinate System to Right Ascension Coordinate System Using Method of matrix conversion is\n",
      " {}\n",
      "In X Direction: 19 Degree 48 Minutes 45.147 Seconds \n",
      "In Y Direction: 14 Degree 12 Minutes 41.428 Seconds \n",
      "In Z Direction: 51 Degree 50 Minutes 54.404 Seconds \n"
     ]
    }
   ],
   "source": [
    "#Transformation from Hour Angle Coordinate System to Right Ascension Coordinate System\n",
    "# Using Method of matrix conversion\n",
    "\n",
    "#Transformation from Hour Angle Coordinate System to Horizon Coordinate System\n",
    "# Using Method of matrix conversion\n",
    "\n",
    "R3 = np.array([\n",
    "    [-0.4045, 0.9145, 0],\n",
    "    [-0.9145, -0.4045, 0 ],\n",
    "    [0, 0, 1]\n",
    "])\n",
    "\n",
    "P2 = np.array([\n",
    "    [1, 0, 0],\n",
    "    [0, -1, 0],\n",
    "    [0, 0, 1]\n",
    "])\n",
    "\n",
    "# Defining the Axis X,Y,Z\n",
    "\n",
    "# Defining the Rotational Matrix\n",
    "X,Y,Z = sym.symbols('X Y Z')\n",
    "\n",
    "HA = np.array([\n",
    "    [cos(d)*cos(h)],\n",
    "    [cos(d)*sin(h)],\n",
    "    [sin(d)]\n",
    "])\n",
    "\n",
    "#Performing Transformation\n",
    "\n",
    "RA = np.dot(R3,np.dot(P2,HA))\n",
    "print(\"The Transformation from Hour Angle Coordinate System to Right Ascension Coordinate System Using Method of matrix conversion is\\n {}\")\n",
    "print(\"In X Direction: {}\".format(dd2dms(degrees(RA[0]))))\n",
    "print(\"In Y Direction: {}\".format(dd2dms(degrees(RA[1]))))\n",
    "print(\"In Z Direction: {}\".format(dd2dms(degrees(RA[2]))))"
   ]
  },
  {
   "cell_type": "code",
   "execution_count": 122,
   "metadata": {},
   "outputs": [
    {
     "name": "stdout",
     "output_type": "stream",
     "text": [
      "The Eciliptic Longitude of the Star is 4 Degree 37 Minutes 47.765 Seconds \n",
      "The Eciliptic Latitude of the Star is 78 Degree 39 Minutes 58.455 Seconds \n"
     ]
    }
   ],
   "source": [
    "#Transformation from Right Ascension Coordinate System to Eciliptic Coordinate System\n",
    "# Using Spherical Trigonometric Formula\n",
    "\n",
    "lamb = degrees(atan(((sin(ra)*cos(ob))+(tan(d)*sin(ob)))/cos(ra))) # Eciliptic Longitude\n",
    "beta = degrees(asin((-cos(d)*sin(ra)*sin(ob)) + (sin(d)*cos(ob))))\n",
    "\n",
    "print(\"The Eciliptic Longitude of the Star is {}\".format(dd2dms(lamb)))\n",
    "print(\"The Eciliptic Latitude of the Star is {}\".format(dd2dms(beta)))"
   ]
  },
  {
   "cell_type": "code",
   "execution_count": 133,
   "metadata": {},
   "outputs": [
    {
     "name": "stdout",
     "output_type": "stream",
     "text": [
      "The Transformation from Right Ascension Coordinate System to Eciliptic Coordinate System  Using Method of matrix conversion is\n",
      "\n",
      "In X Direction: 11 Degree 13 Minutes 23.699 Seconds \n",
      "In Y Direction: 40 Degree 11 Minutes 18.361 Seconds \n",
      "In Z Direction: 37 Degree 57 Minutes 8.345 Seconds \n"
     ]
    }
   ],
   "source": [
    "#Transformation from Right Ascension Coordinate System to Eciliptic Coordinate System\n",
    "# Using Method of matrix conversion\n",
    "\n",
    "# Defining Rotational Matrix\n",
    "\n",
    "Mra =  np.array([\n",
    "    [cos(d)*cos(ra)],\n",
    "    [cos(d)*sin(ra)],\n",
    "    [sin(ra)]\n",
    "])\n",
    "\n",
    "R1 = np.array([\n",
    "    [1,0,0],\n",
    "    [0,0.9164,0.4001],\n",
    "    [0,-0.4001,0.9164]\n",
    "])\n",
    "\n",
    "E = np.dot(R1,Mra)\n",
    "\n",
    "print(\"The Transformation from Right Ascension Coordinate System to Eciliptic Coordinate System  Using Method of matrix conversion is\\n\")\n",
    "print(\"In X Direction: {}\".format(dd2dms(degrees(E[0]))))\n",
    "print(\"In Y Direction: {}\".format(dd2dms(degrees(E[1]))))\n",
    "print(\"In Z Direction: {}\".format(dd2dms(degrees(E[2]))))"
   ]
  }
 ],
 "metadata": {
  "kernelspec": {
   "display_name": "Python 3.7.1 64-bit",
   "language": "python",
   "name": "python37164bit1fe9323a61b746e79995ce3da87c2b5f"
  },
  "language_info": {
   "codemirror_mode": {
    "name": "ipython",
    "version": 3
   },
   "file_extension": ".py",
   "mimetype": "text/x-python",
   "name": "python",
   "nbconvert_exporter": "python",
   "pygments_lexer": "ipython3",
   "version": "3.7.1"
  }
 },
 "nbformat": 4,
 "nbformat_minor": 4
}
